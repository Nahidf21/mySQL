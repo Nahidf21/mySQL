{
 "cells": [
  {
   "cell_type": "code",
   "execution_count": 4,
   "id": "5cfaae4d",
   "metadata": {},
   "outputs": [],
   "source": [
    "import mysql.connector\n",
    "from mysql.connector import Error\n",
    "import pandas as pd"
   ]
  },
  {
   "cell_type": "code",
   "execution_count": 5,
   "id": "e04523cd",
   "metadata": {},
   "outputs": [
    {
     "name": "stdout",
     "output_type": "stream",
     "text": [
      "My SQL Database connection successful\n"
     ]
    }
   ],
   "source": [
    "def create_server_connection(host_name, user_name, user_password):\n",
    "    connection = None\n",
    "    try:\n",
    "        connection = mysql.connector.connect(\n",
    "            host = host_name,\n",
    "            user = user_name,\n",
    "            passwd = user_password\n",
    "        )\n",
    "        print(\"My SQL Database connection successful\")\n",
    "    except Error as err:\n",
    "        print(f\"Error: '{err}'\")\n",
    "    return connection\n",
    "pw = \"Edu@1822\"\n",
    "db= \"mysql_python\"\n",
    "connection = create_server_connection(\"localhost\", \"root\", pw)"
   ]
  },
  {
   "cell_type": "code",
   "execution_count": 8,
   "id": "0e0a68f4",
   "metadata": {},
   "outputs": [
    {
     "name": "stdout",
     "output_type": "stream",
     "text": [
      "Database create successfully\n"
     ]
    }
   ],
   "source": [
    "# Create mysql_python\n",
    "\n",
    "def create_database(connection, query):\n",
    "    cursor= connection.cursor()\n",
    "    try:\n",
    "        cursor.execute(query)\n",
    "        print(\"Database create successfully\")\n",
    "    except Error as err:\n",
    "        print(f\"Error: '{err}'\")\n",
    "create_database_query = \"Create database mysql_python\"\n",
    "create_database(connection, create_database_query)\n"
   ]
  },
  {
   "cell_type": "code",
   "execution_count": 10,
   "id": "23337e7f",
   "metadata": {},
   "outputs": [
    {
     "name": "stdout",
     "output_type": "stream",
     "text": [
      "My SQL database connection successfully\n"
     ]
    }
   ],
   "source": [
    "# Connect to database \n",
    "def create_db_connection(host_name, user_name, user_password, db_name):\n",
    "    connection = None\n",
    "    try:\n",
    "        connection = mysql.connector.connect(\n",
    "            host = host_name,\n",
    "            user = user_name,\n",
    "            passwd = user_password,\n",
    "            database= db_name\n",
    "        )\n",
    "        print(\"My SQL database connection successfully\")\n",
    "    except Error as err:\n",
    "        print(f\"Error: '{err}'\")\n",
    "    return connection\n",
    "connection = create_db_connection(\"localhost\", \"root\", pw, db)"
   ]
  },
  {
   "cell_type": "code",
   "execution_count": 12,
   "id": "5061e310",
   "metadata": {},
   "outputs": [],
   "source": [
    "# Execute sql queries\n",
    "def execute_query(connection, query):\n",
    "    cursor = connection.cursor()\n",
    "    try:\n",
    "        cursor.execute(query)\n",
    "        connection.commit()\n",
    "        print(\"Query was successful\")\n",
    "    except Error as err:\n",
    "        print(f\"Error: '{err}'\")\n",
    "        "
   ]
  },
  {
   "cell_type": "code",
   "execution_count": 13,
   "id": "c19b42e7",
   "metadata": {},
   "outputs": [
    {
     "name": "stdout",
     "output_type": "stream",
     "text": [
      "My SQL database connection successfully\n",
      "Query was successful\n"
     ]
    }
   ],
   "source": [
    "create_orders_table = \"\"\"\n",
    "create table orders(\n",
    "order_id int primary key,\n",
    "customer_name varchar(30) not null,\n",
    "product_name varchar(20) not null,\n",
    "date_ordered date,\n",
    "quantity int,\n",
    "unit_price float,\n",
    "phone_number varchar(20)); \n",
    "\"\"\"\n",
    "\n",
    "# connect to the database \n",
    "connection = create_db_connection(\"localhost\", \"root\", pw, db)\n",
    "execute_query(connection, create_orders_table)"
   ]
  },
  {
   "cell_type": "code",
   "execution_count": 16,
   "id": "c941620a",
   "metadata": {},
   "outputs": [
    {
     "name": "stdout",
     "output_type": "stream",
     "text": [
      "My SQL database connection successfully\n",
      "Query was successful\n"
     ]
    }
   ],
   "source": [
    " # insert data\n",
    "data_orders= \"\"\"\n",
    "insert into orders values\n",
    "(101,'Nahid', 'drone', '2023-06-12', 1,800, '123456789'), \n",
    "(102,'Marzia', 'Car', '2023-06-14', 1,80000, '123456790'),\n",
    "(103,'Abid', 'Tesla', '2023-06-15', 1,80000, '123456791'),\n",
    "(104,'Sadia', 'Small Car', '2023-06-16', 1,28000, '123456792'),\n",
    "(105,'Ammu Abbu', 'Home', '2023-06-17', 1,800000, '123456793'),\n",
    "(106,'Jinnah', 'Bike', '2023-06-18', 1,3500, '123456794'),\n",
    "(107,'Fahmida', 'Car', '2023-06-19', 1,80000, '123456795');\n",
    "\"\"\"\n",
    "connection = create_db_connection(\"localhost\", \"root\", pw, db)\n",
    "execute_query(connection, data_orders)"
   ]
  },
  {
   "cell_type": "code",
   "execution_count": 25,
   "id": "db7df83d",
   "metadata": {},
   "outputs": [],
   "source": [
    "def read_query(connection, query):\n",
    "    cursor = connection.cursor()\n",
    "    result = None\n",
    "    try:\n",
    "        cursor.execute(query)\n",
    "        resutl = cursor.fetchall()\n",
    "        return result\n",
    "    \n",
    "    except Error as err:\n",
    "        print(f\"Error: '{err}'\")\n",
    "        \n",
    "\n",
    "        "
   ]
  },
  {
   "cell_type": "code",
   "execution_count": 37,
   "id": "27f1528e",
   "metadata": {},
   "outputs": [
    {
     "name": "stdout",
     "output_type": "stream",
     "text": [
      "My SQL database connection successfully\n"
     ]
    }
   ],
   "source": [
    "# using the select statement \n",
    "q1= \"\"\"\n",
    "select order_id from orders;\n",
    "\"\"\"\n",
    "connection = create_db_connection(\"localhost\", \"root\", pw, db)\n",
    "results = read_query(connection, q1)\n",
    "#for result in results:\n",
    "    #print(result)\n"
   ]
  },
  {
   "cell_type": "code",
   "execution_count": 34,
   "id": "0c97360e",
   "metadata": {},
   "outputs": [
    {
     "name": "stdout",
     "output_type": "stream",
     "text": [
      "My SQL database connection successfully\n"
     ]
    }
   ],
   "source": [
    "q2= \"\"\"\n",
    "select customer_name from orders;\n",
    "\"\"\"\n",
    "connection = create_db_connection(\"localhost\", \"root\", pw, db)\n",
    "results = read_query(connection, q2)\n",
    "#for result in results:\n",
    "      #  print(result)"
   ]
  },
  {
   "cell_type": "code",
   "execution_count": 35,
   "id": "895e7b81",
   "metadata": {},
   "outputs": [
    {
     "name": "stdout",
     "output_type": "stream",
     "text": [
      "My SQL database connection successfully\n"
     ]
    }
   ],
   "source": [
    "q3= \"\"\"\n",
    "select year(date_ordered) from orders;\n",
    "\"\"\"\n",
    "connection = create_db_connection(\"localhost\", \"root\", pw, db)\n",
    "results = read_query(connection, q3)\n",
    "#for result in results:\n",
    "       # print(result)"
   ]
  },
  {
   "cell_type": "code",
   "execution_count": null,
   "id": "34eef44f",
   "metadata": {},
   "outputs": [],
   "source": []
  }
 ],
 "metadata": {
  "kernelspec": {
   "display_name": "Python 3 (ipykernel)",
   "language": "python",
   "name": "python3"
  },
  "language_info": {
   "codemirror_mode": {
    "name": "ipython",
    "version": 3
   },
   "file_extension": ".py",
   "mimetype": "text/x-python",
   "name": "python",
   "nbconvert_exporter": "python",
   "pygments_lexer": "ipython3",
   "version": "3.10.11"
  }
 },
 "nbformat": 4,
 "nbformat_minor": 5
}
